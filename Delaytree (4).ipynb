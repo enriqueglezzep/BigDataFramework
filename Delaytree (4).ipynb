{
  "nbformat": 4,
  "nbformat_minor": 0,
  "metadata": {
    "colab": {
      "provenance": []
    },
    "kernelspec": {
      "name": "python3",
      "display_name": "Python 3"
    },
    "language_info": {
      "name": "python"
    }
  },
  "cells": [
    {
      "cell_type": "code",
      "source": [
        "!pip install pyspark py4j"
      ],
      "metadata": {
        "colab": {
          "base_uri": "https://localhost:8080/"
        },
        "id": "dOqjL9S7D5iq",
        "outputId": "639c57e9-9006-44e3-f7ad-89ae29246b69"
      },
      "execution_count": 3,
      "outputs": [
        {
          "output_type": "stream",
          "name": "stdout",
          "text": [
            "Collecting pyspark\n",
            "  Downloading pyspark-3.5.0.tar.gz (316.9 MB)\n",
            "\u001b[2K     \u001b[90m━━━━━━━━━━━━━━━━━━━━━━━━━━━━━━━━━━━━━━━━\u001b[0m \u001b[32m316.9/316.9 MB\u001b[0m \u001b[31m4.7 MB/s\u001b[0m eta \u001b[36m0:00:00\u001b[0m\n",
            "\u001b[?25h  Preparing metadata (setup.py) ... \u001b[?25l\u001b[?25hdone\n",
            "Requirement already satisfied: py4j in /usr/local/lib/python3.10/dist-packages (0.10.9.7)\n",
            "Building wheels for collected packages: pyspark\n",
            "  Building wheel for pyspark (setup.py) ... \u001b[?25l\u001b[?25hdone\n",
            "  Created wheel for pyspark: filename=pyspark-3.5.0-py2.py3-none-any.whl size=317425345 sha256=f9683307b36afee5213bd62ae2c24187e55be0cc83ba825bb307e898a7975219\n",
            "  Stored in directory: /root/.cache/pip/wheels/41/4e/10/c2cf2467f71c678cfc8a6b9ac9241e5e44a01940da8fbb17fc\n",
            "Successfully built pyspark\n",
            "Installing collected packages: pyspark\n",
            "Successfully installed pyspark-3.5.0\n"
          ]
        }
      ]
    },
    {
      "cell_type": "markdown",
      "source": [
        "**The main libraries to complete the project are about pyspark to manage the dataframes, another libraries as numpy or pandas are necessary to calculate and graph barcharts and results about project.**"
      ],
      "metadata": {
        "id": "PX_gydUFs-BP"
      }
    },
    {
      "cell_type": "code",
      "execution_count": 30,
      "metadata": {
        "id": "NS9NtNHDDxOY"
      },
      "outputs": [],
      "source": [
        "import numpy as np\n",
        "import pandas as pd\n",
        "import os\n",
        "import pyspark\n",
        "from pyspark.sql import SparkSession\n",
        "from pyspark.sql.types import StructType, StructField, IntegerType, StringType\n",
        "from pyspark.sql.functions import col, count, when, isnan\n",
        "import matplotlib.pyplot as plt\n",
        "from pyspark.sql.functions import *\n",
        "from pyspark.ml.feature import Imputer\n",
        "from pyspark.ml.feature import StringIndexer, OneHotEncoder, VectorAssembler, StandardScaler\n",
        "\n",
        "\n",
        "from pyspark.sql.functions import round\n",
        "from pyspark.ml.feature import StringIndexer\n",
        "from pyspark.ml.feature import VectorAssembler\n",
        "from pyspark.ml.classification import DecisionTreeClassifier\n",
        "from pyspark.ml.classification import LogisticRegression\n",
        "from pyspark.ml.evaluation import MulticlassClassificationEvaluator, BinaryClassificationEvaluator"
      ]
    },
    {
      "cell_type": "markdown",
      "source": [
        "Is mandatory to create a spark session to start with pyspark tools, afterwards, load the csv file and assign to a dataframe in pyspark"
      ],
      "metadata": {
        "id": "PxsXYv5EtVO0"
      }
    },
    {
      "cell_type": "code",
      "source": [
        "#spark = SparkSession.builder.appName(\"NullValuesAnalysis\").getOrCreate()\n",
        "spark = SparkSession.builder.appName(\"Treespark\").config(\"spark.driver.memory\", \"8g\").config(\"spark.executor.memory\", \"4g\").getOrCreate()\n",
        "# Load the CSV file into a Spark DataFrame\n",
        "#df = spark.read.option(\"header\", \"true\").csv(\"/content/drive/MyDrive/Colab Notebooks/BDFramework/flights-larger.csv\")\n",
        "df = spark.read.csv('/content/drive/MyDrive/Colab Notebooks/BDFramework/flights-larger.csv',\n",
        "                         sep=',',\n",
        "                         header=True,\n",
        "                         inferSchema=True,\n",
        "                         nullValue='NA')\n"
      ],
      "metadata": {
        "id": "8eePTMEvEUQ5"
      },
      "execution_count": 31,
      "outputs": []
    },
    {
      "cell_type": "markdown",
      "source": [
        "To start analysis, is fundamental to identify type of data used in this project"
      ],
      "metadata": {
        "id": "ohFngBGhtqu3"
      }
    },
    {
      "cell_type": "code",
      "source": [
        "print(df.dtypes)"
      ],
      "metadata": {
        "colab": {
          "base_uri": "https://localhost:8080/"
        },
        "id": "Yw-h63BQE4it",
        "outputId": "5b639934-0895-4562-d6c9-78b3241ffa7a"
      },
      "execution_count": 32,
      "outputs": [
        {
          "output_type": "stream",
          "name": "stdout",
          "text": [
            "[('mon', 'int'), ('dom', 'int'), ('dow', 'int'), ('carrier', 'string'), ('flight', 'int'), ('org', 'string'), ('mile', 'int'), ('depart', 'double'), ('duration', 'int'), ('delay', 'int')]\n"
          ]
        }
      ]
    },
    {
      "cell_type": "markdown",
      "source": [
        "Schema shows a descriptive diagram of features in the dataframe"
      ],
      "metadata": {
        "id": "04xQK2vAt4X2"
      }
    },
    {
      "cell_type": "code",
      "source": [
        "df.printSchema()"
      ],
      "metadata": {
        "colab": {
          "base_uri": "https://localhost:8080/"
        },
        "id": "_DbCgIhYeP5V",
        "outputId": "c40396fd-bf7c-4a77-f710-e7ba7b901d85"
      },
      "execution_count": 33,
      "outputs": [
        {
          "output_type": "stream",
          "name": "stdout",
          "text": [
            "root\n",
            " |-- mon: integer (nullable = true)\n",
            " |-- dom: integer (nullable = true)\n",
            " |-- dow: integer (nullable = true)\n",
            " |-- carrier: string (nullable = true)\n",
            " |-- flight: integer (nullable = true)\n",
            " |-- org: string (nullable = true)\n",
            " |-- mile: integer (nullable = true)\n",
            " |-- depart: double (nullable = true)\n",
            " |-- duration: integer (nullable = true)\n",
            " |-- delay: integer (nullable = true)\n",
            "\n"
          ]
        }
      ]
    },
    {
      "cell_type": "markdown",
      "source": [
        "A description of dataframe is showed below, with a summary of statistical descriptions of features"
      ],
      "metadata": {
        "id": "9Lrjc-jUuDGL"
      }
    },
    {
      "cell_type": "code",
      "source": [
        "# Check dimensions\n",
        "print(\"Rows:\", df.count())\n",
        "print(\"Columns:\", len(df.columns))\n",
        "\n",
        "# Describe data\n",
        "df.describe().show()"
      ],
      "metadata": {
        "colab": {
          "base_uri": "https://localhost:8080/"
        },
        "id": "HVxDF8Iqe0CL",
        "outputId": "7511b3a6-99bb-4acc-fb72-871aea52b26a"
      },
      "execution_count": 34,
      "outputs": [
        {
          "output_type": "stream",
          "name": "stdout",
          "text": [
            "Rows: 275000\n",
            "Columns: 10\n",
            "+-------+------------------+-----------------+------------------+-------+------------------+------+-----------------+------------------+------------------+-----------------+\n",
            "|summary|               mon|              dom|               dow|carrier|            flight|   org|             mile|            depart|          duration|            delay|\n",
            "+-------+------------------+-----------------+------------------+-------+------------------+------+-----------------+------------------+------------------+-----------------+\n",
            "|  count|            275000|           275000|            275000| 275000|            275000|275000|           275000|            275000|            275000|           258289|\n",
            "|   mean|           5.24232|15.71406909090909| 2.946090909090909|   NULL|2063.0542763636363|  NULL|881.2222872727273|14.124930981817384|151.64103636363637|28.34773064280709|\n",
            "| stddev|3.4273573316203576|8.805568383848067|1.9635141531217672|   NULL| 2185.852169684581|  NULL|700.5178890821038| 4.683189503417866|  87.0845640768675|54.01489538326629|\n",
            "|    min|                 0|                1|                 0|     AA|                 1|   JFK|               11|              0.12|                14|              -80|\n",
            "|    max|                11|               31|                 6|     WN|              6941|   TUS|             4243|             23.98|               605|             1370|\n",
            "+-------+------------------+-----------------+------------------+-------+------------------+------+-----------------+------------------+------------------+-----------------+\n",
            "\n"
          ]
        }
      ]
    },
    {
      "cell_type": "markdown",
      "source": [
        "To identify the type in each feature was necessary to compare with string type, in this way, numerical and categorical columns were identified."
      ],
      "metadata": {
        "id": "OF6lviHgvrDE"
      }
    },
    {
      "cell_type": "code",
      "source": [
        "numeric_columns = list()\n",
        "categorical_columns = list()\n",
        "for col_ in df.columns:\n",
        "  if df.select(col_).dtypes[0][1] != \"string\":\n",
        "    numeric_columns.append(col_)\n",
        "  else:\n",
        "    categorical_columns.append(col_)\n",
        "\n",
        "print(\"Numeric columns\", numeric_columns)\n",
        "print(\"Categorical Columns\", categorical_columns)"
      ],
      "metadata": {
        "colab": {
          "base_uri": "https://localhost:8080/"
        },
        "id": "Aly2mS1cXtAt",
        "outputId": "0dc26743-82ee-4615-97d5-791d4a4cb03d"
      },
      "execution_count": 35,
      "outputs": [
        {
          "output_type": "stream",
          "name": "stdout",
          "text": [
            "Numeric columns ['mon', 'dom', 'dow', 'flight', 'mile', 'depart', 'duration', 'delay']\n",
            "Categorical Columns ['carrier', 'org']\n"
          ]
        }
      ]
    },
    {
      "cell_type": "markdown",
      "source": [
        "Null values can affect the analysis, one of the options is to drop the null values, however, is possible to lose important information from our dataset, a dataframe with a count of null values and a barchart can help to identify it."
      ],
      "metadata": {
        "id": "uHKdikbwwB6P"
      }
    },
    {
      "cell_type": "code",
      "source": [
        "# Count null values in each column\n",
        "null_counts = df.select([col(c).isNull().cast(\"int\").alias(c) for c in df.columns]).groupBy().sum().collect()[0].asDict()\n",
        "print(df.select([count(when(isnan(c) | col(c).isNull(),c)).alias(c) for c in df.columns]).show())\n",
        "# Print null counts\n",
        "for column, count in null_counts.items():\n",
        "    print(f\"Column '{column}': {count} null values\")\n",
        "\n",
        "# Plot null values\n",
        "null_counts_df = pd.DataFrame(null_counts.items(), columns=['Column', 'Null Count'])\n",
        "null_counts_df.sort_values(by='Null Count', ascending=False, inplace=True)\n",
        "\n",
        "plt.figure(figsize=(10, 6))\n",
        "plt.barh(null_counts_df['Column'], null_counts_df['Null Count'], color='skyblue')\n",
        "plt.xlabel('Null Count')\n",
        "plt.title('Null Values in Columns')\n",
        "plt.gca().invert_yaxis()\n",
        "plt.show()"
      ],
      "metadata": {
        "colab": {
          "base_uri": "https://localhost:8080/",
          "height": 859
        },
        "id": "Vc2G5E2nfMId",
        "outputId": "b4b83e24-abb1-4ce9-cbd7-44a1f953fa70"
      },
      "execution_count": 36,
      "outputs": [
        {
          "output_type": "stream",
          "name": "stdout",
          "text": [
            "+---+---+---+-------+------+---+----+------+--------+-----+\n",
            "|mon|dom|dow|carrier|flight|org|mile|depart|duration|delay|\n",
            "+---+---+---+-------+------+---+----+------+--------+-----+\n",
            "|  0|  0|  0|      0|     0|  0|   0|     0|       0|16711|\n",
            "+---+---+---+-------+------+---+----+------+--------+-----+\n",
            "\n",
            "None\n",
            "Column 'sum(mon)': 0 null values\n",
            "Column 'sum(dom)': 0 null values\n",
            "Column 'sum(dow)': 0 null values\n",
            "Column 'sum(carrier)': 0 null values\n",
            "Column 'sum(flight)': 0 null values\n",
            "Column 'sum(org)': 0 null values\n",
            "Column 'sum(mile)': 0 null values\n",
            "Column 'sum(depart)': 0 null values\n",
            "Column 'sum(duration)': 0 null values\n",
            "Column 'sum(delay)': 16711 null values\n"
          ]
        },
        {
          "output_type": "display_data",
          "data": {
            "text/plain": [
              "<Figure size 1000x600 with 1 Axes>"
            ],
            "image/png": "[encoded data removed]"
          },
          "metadata": {}
        }
      ]
    },
    {
      "cell_type": "markdown",
      "source": [
        "A graph of Average delays by carrier is showed to identify carriers with more delay"
      ],
      "metadata": {
        "id": "6nTVlF-zxOZv"
      }
    },
    {
      "cell_type": "code",
      "source": [
        "# Grouping delays by carrier\n",
        "delay_by_carrier = df.groupBy(\"carrier\").agg({\"delay\": \"avg\"}).collect()\n",
        "\n",
        "# Extracting carrier names and delays for plotting\n",
        "carriers = [row['carrier'] for row in delay_by_carrier]\n",
        "delays = [row['avg(delay)'] for row in delay_by_carrier]\n",
        "\n",
        "# Plotting the graph\n",
        "plt.figure(figsize=(10, 6))\n",
        "plt.bar(carriers, delays, color='skyblue')\n",
        "plt.xlabel('Carrier')\n",
        "plt.ylabel('Average Delay')\n",
        "plt.title('Average Delay by Carrier')\n",
        "plt.xticks(rotation=45)\n",
        "plt.tight_layout()\n",
        "\n",
        "# Show the plot\n",
        "plt.show()"
      ],
      "metadata": {
        "colab": {
          "base_uri": "https://localhost:8080/",
          "height": 607
        },
        "id": "SqmUb50AY21r",
        "outputId": "98f910dc-9db5-48ba-e70d-1ea5a17ca919"
      },
      "execution_count": 37,
      "outputs": [
        {
          "output_type": "display_data",
          "data": {
            "text/plain": [
              "<Figure size 1000x600 with 1 Axes>"
            ],
            "image/png": "[encoded data removed]"
          },
          "metadata": {}
        }
      ]
    },
    {
      "cell_type": "markdown",
      "source": [
        "Removal of null values was applied in the first proof, however, large of data was reduced and it could be a lack of information"
      ],
      "metadata": {
        "id": "ymVp-ZccxpxY"
      }
    },
    {
      "cell_type": "code",
      "source": [
        "# Remove the 'flight' column\n",
        "#df =  df.drop('flight') #functional\n",
        "\n",
        "# Remove records with missing 'delay' values\n",
        "#flights_valid_delay = flights_drop_column.filter('delay IS NOT NULL')\n",
        "\n",
        "# Remove records with missing values\n",
        "#df = df.dropna() #functional\n",
        "#print(df.count()) #functional\n",
        "\n",
        "\n",
        "#____________________________________IMPUTER_______________________________#\n",
        "# Impute null values in the 'delay' column with mean imputation\n",
        "imputer = Imputer(inputCols=[\"delay\"], outputCols=[\"delay_imputed\"])\n",
        "model = imputer.setStrategy(\"mean\").fit(df)\n",
        "df = model.transform(df)\n",
        "\n",
        "# Show the DataFrame after imputation\n",
        "df.show()"
      ],
      "metadata": {
        "colab": {
          "base_uri": "https://localhost:8080/"
        },
        "id": "oWtzvE2MFIQJ",
        "outputId": "435cd0db-5142-4822-c36c-7e16b5ce05fa"
      },
      "execution_count": 38,
      "outputs": [
        {
          "output_type": "stream",
          "name": "stdout",
          "text": [
            "+---+---+---+-------+------+---+----+------+--------+-----+-------------+\n",
            "|mon|dom|dow|carrier|flight|org|mile|depart|duration|delay|delay_imputed|\n",
            "+---+---+---+-------+------+---+----+------+--------+-----+-------------+\n",
            "| 10| 10|  1|     OO|  5836|ORD| 157|  8.18|      51|   27|           27|\n",
            "|  1|  4|  1|     OO|  5866|ORD| 466|  15.5|     102| NULL|           28|\n",
            "| 11| 22|  1|     OO|  6016|ORD| 738|  7.17|     127|  -19|          -19|\n",
            "|  2| 14|  5|     B6|   199|JFK|2248| 21.17|     365|   60|           60|\n",
            "|  5| 25|  3|     WN|  1675|SJC| 386| 12.92|      85|   22|           22|\n",
            "|  3| 28|  1|     B6|   377|LGA|1076| 13.33|     182|   70|           70|\n",
            "|  5| 28|  6|     B6|   904|ORD| 740|  9.58|     130|   47|           47|\n",
            "|  1| 19|  2|     UA|   820|SFO| 679| 12.75|     123|  135|          135|\n",
            "|  8|  5|  5|     US|  2175|LGA| 214|  13.0|      71|  -10|          -10|\n",
            "|  5| 27|  5|     AA|  1240|ORD|1197| 14.42|     195|  -11|          -11|\n",
            "|  8| 20|  6|     B6|   119|JFK|1182| 14.67|     198|   20|           20|\n",
            "|  2|  3|  1|     AA|  1881|JFK|1090| 15.92|     200|   -9|           -9|\n",
            "|  8| 26|  5|     B6|    35|JFK|1028| 20.58|     193|  102|          102|\n",
            "|  4|  9|  5|     AA|   336|ORD| 733|  20.5|     125|   32|           32|\n",
            "|  3|  8|  2|     UA|   678|ORD| 733| 10.95|     129|   55|           55|\n",
            "|  8| 10|  3|     OH|  6347|LGA| 292| 11.75|     102|    8|            8|\n",
            "|  8| 14|  0|     UA|   624|ORD| 612| 17.92|     109|   57|           57|\n",
            "|  4|  8|  4|     OH|  5585|JFK| 301| 13.25|      88|   23|           23|\n",
            "|  1| 14|  4|     UA|  1524|SFO| 414| 14.87|      91|   27|           27|\n",
            "|  1|  2|  6|     AA|  1341|ORD|1846|   7.5|     275|   26|           26|\n",
            "+---+---+---+-------+------+---+----+------+--------+-----+-------------+\n",
            "only showing top 20 rows\n",
            "\n"
          ]
        }
      ]
    },
    {
      "cell_type": "markdown",
      "source": [
        "Mean imputation was used to fill null values, those values were inserted in a new column called **delay_imputed**"
      ],
      "metadata": {
        "id": "Eci_oBfDx6qD"
      }
    },
    {
      "cell_type": "code",
      "source": [
        "from pyspark.sql.functions import isnan, when, col, count\n",
        "print(df.select([count(when(isnan(c) | col(c).isNull(),c)).alias(c) for c in df.columns]).show())"
      ],
      "metadata": {
        "colab": {
          "base_uri": "https://localhost:8080/"
        },
        "id": "Qh4DJhIEvmHf",
        "outputId": "95d30aef-e56e-42bc-9917-6d3fbdf3a95d"
      },
      "execution_count": 39,
      "outputs": [
        {
          "output_type": "stream",
          "name": "stdout",
          "text": [
            "+---+---+---+-------+------+---+----+------+--------+-----+-------------+\n",
            "|mon|dom|dow|carrier|flight|org|mile|depart|duration|delay|delay_imputed|\n",
            "+---+---+---+-------+------+---+----+------+--------+-----+-------------+\n",
            "|  0|  0|  0|      0|     0|  0|   0|     0|       0|16711|            0|\n",
            "+---+---+---+-------+------+---+----+------+--------+-----+-------------+\n",
            "\n",
            "None\n"
          ]
        }
      ]
    },
    {
      "cell_type": "code",
      "source": [
        "unique_delay_count = df.agg(countDistinct(\"delay\").alias(\"unique_delay_count\"))\n",
        "\n",
        "# Show the count of unique values in the 'delay' column\n",
        "unique_delay_count.show()"
      ],
      "metadata": {
        "colab": {
          "base_uri": "https://localhost:8080/"
        },
        "id": "YuE72fqJIfyf",
        "outputId": "cf79e8a5-1cf3-46f6-d1b8-19753a3a8937"
      },
      "execution_count": 40,
      "outputs": [
        {
          "output_type": "stream",
          "name": "stdout",
          "text": [
            "+------------------+\n",
            "|unique_delay_count|\n",
            "+------------------+\n",
            "|               618|\n",
            "+------------------+\n",
            "\n"
          ]
        }
      ]
    },
    {
      "cell_type": "markdown",
      "source": [
        "Dataset has a column with miles in flights, for a better understanding of the data, dataframe was modified with a new column with km and miles was deleted from dataset."
      ],
      "metadata": {
        "id": "9_-341o1yO1e"
      }
    },
    {
      "cell_type": "code",
      "source": [
        "# Convert columns 'mile' to 'km' and then drop it\n",
        "flights_km = df.withColumn('km', round(df.mile * 1.60934, 0)) \\\n",
        "                    .drop('mile')\n",
        "\n",
        "# Create 'label' column indicating whether a flight is delayed or not\n",
        "flights_km = flights_km.withColumn('label', (flights_km.delay_imputed >= 15).cast('integer'))\n",
        "\n",
        "# Check first five records\n",
        "flights_km.show(5)"
      ],
      "metadata": {
        "colab": {
          "base_uri": "https://localhost:8080/"
        },
        "id": "5IHUDhxZFypY",
        "outputId": "8e2e6641-d30f-46e9-ef3d-371d198a6f96"
      },
      "execution_count": 41,
      "outputs": [
        {
          "output_type": "stream",
          "name": "stdout",
          "text": [
            "+---+---+---+-------+------+---+------+--------+-----+-------------+------+-----+\n",
            "|mon|dom|dow|carrier|flight|org|depart|duration|delay|delay_imputed|    km|label|\n",
            "+---+---+---+-------+------+---+------+--------+-----+-------------+------+-----+\n",
            "| 10| 10|  1|     OO|  5836|ORD|  8.18|      51|   27|           27| 253.0|    1|\n",
            "|  1|  4|  1|     OO|  5866|ORD|  15.5|     102| NULL|           28| 750.0|    1|\n",
            "| 11| 22|  1|     OO|  6016|ORD|  7.17|     127|  -19|          -19|1188.0|    0|\n",
            "|  2| 14|  5|     B6|   199|JFK| 21.17|     365|   60|           60|3618.0|    1|\n",
            "|  5| 25|  3|     WN|  1675|SJC| 12.92|      85|   22|           22| 621.0|    1|\n",
            "+---+---+---+-------+------+---+------+--------+-----+-------------+------+-----+\n",
            "only showing top 5 rows\n",
            "\n"
          ]
        }
      ]
    },
    {
      "cell_type": "markdown",
      "source": [
        "Carrier and Org features are categorical columns, to manage all the features in a decision tree is necessary convert categorical into numerical columns, the code below shows the conversion in the table.\n",
        "\n"
      ],
      "metadata": {
        "id": "oG1e07q2zE8V"
      }
    },
    {
      "cell_type": "code",
      "source": [
        "# Create an indexer, which identifies categories and then creates a new column with numeric index values\n",
        "flights_indexed = StringIndexer(inputCol='carrier', outputCol='carrier_idx').fit(flights_km).transform(flights_km)\n",
        "\n",
        "# Repeat the process for org column\n",
        "flights_indexed = StringIndexer(inputCol='org', outputCol='org_idx').fit(flights_indexed).transform(flights_indexed)\n",
        "flights_indexed.show(5)"
      ],
      "metadata": {
        "colab": {
          "base_uri": "https://localhost:8080/"
        },
        "id": "1KMF5_RzF9yU",
        "outputId": "6261fc9f-4fba-4287-8824-b3414663b876"
      },
      "execution_count": 42,
      "outputs": [
        {
          "output_type": "stream",
          "name": "stdout",
          "text": [
            "+---+---+---+-------+------+---+------+--------+-----+-------------+------+-----+-----------+-------+\n",
            "|mon|dom|dow|carrier|flight|org|depart|duration|delay|delay_imputed|    km|label|carrier_idx|org_idx|\n",
            "+---+---+---+-------+------+---+------+--------+-----+-------------+------+-----+-----------+-------+\n",
            "| 10| 10|  1|     OO|  5836|ORD|  8.18|      51|   27|           27| 253.0|    1|        2.0|    0.0|\n",
            "|  1|  4|  1|     OO|  5866|ORD|  15.5|     102| NULL|           28| 750.0|    1|        2.0|    0.0|\n",
            "| 11| 22|  1|     OO|  6016|ORD|  7.17|     127|  -19|          -19|1188.0|    0|        2.0|    0.0|\n",
            "|  2| 14|  5|     B6|   199|JFK| 21.17|     365|   60|           60|3618.0|    1|        4.0|    2.0|\n",
            "|  5| 25|  3|     WN|  1675|SJC| 12.92|      85|   22|           22| 621.0|    1|        3.0|    5.0|\n",
            "+---+---+---+-------+------+---+------+--------+-----+-------------+------+-----+-----------+-------+\n",
            "only showing top 5 rows\n",
            "\n"
          ]
        }
      ]
    },
    {
      "cell_type": "markdown",
      "source": [
        "Decision tree-based models generally work with numerical data. One-hot encoding converts categorical variables into a numerical format, allowing the models to handle nominal categorical variables effectively."
      ],
      "metadata": {
        "id": "NYgBHLKs0Irk"
      }
    },
    {
      "cell_type": "code",
      "source": [
        "# One-hot encode indexed categorical columns\n",
        "encoder = [OneHotEncoder(inputCol=col_name+\"_idx\", outputCol=col_name+\"_encoded\") for col_name in categorical_columns]\n",
        "encoder_models = [enc.fit(flights_indexed) for enc in encoder]\n",
        "df_encoded = flights_indexed\n",
        "for model in encoder_models:\n",
        "    df_encoded = model.transform(df_encoded)\n",
        "\n",
        "df_encoded.show()"
      ],
      "metadata": {
        "colab": {
          "base_uri": "https://localhost:8080/"
        },
        "id": "Bnop1V-VV_mu",
        "outputId": "7ec77bdb-07e3-4db3-dd0d-bd217d5618d2"
      },
      "execution_count": 48,
      "outputs": [
        {
          "output_type": "stream",
          "name": "stdout",
          "text": [
            "+---+---+---+-------+------+---+------+--------+-----+-------------+------+-----+-----------+-------+---------------+-------------+\n",
            "|mon|dom|dow|carrier|flight|org|depart|duration|delay|delay_imputed|    km|label|carrier_idx|org_idx|carrier_encoded|  org_encoded|\n",
            "+---+---+---+-------+------+---+------+--------+-----+-------------+------+-----+-----------+-------+---------------+-------------+\n",
            "| 10| 10|  1|     OO|  5836|ORD|  8.18|      51|   27|           27| 253.0|    1|        2.0|    0.0|  (8,[2],[1.0])|(7,[0],[1.0])|\n",
            "|  1|  4|  1|     OO|  5866|ORD|  15.5|     102| NULL|           28| 750.0|    1|        2.0|    0.0|  (8,[2],[1.0])|(7,[0],[1.0])|\n",
            "| 11| 22|  1|     OO|  6016|ORD|  7.17|     127|  -19|          -19|1188.0|    0|        2.0|    0.0|  (8,[2],[1.0])|(7,[0],[1.0])|\n",
            "|  2| 14|  5|     B6|   199|JFK| 21.17|     365|   60|           60|3618.0|    1|        4.0|    2.0|  (8,[4],[1.0])|(7,[2],[1.0])|\n",
            "|  5| 25|  3|     WN|  1675|SJC| 12.92|      85|   22|           22| 621.0|    1|        3.0|    5.0|  (8,[3],[1.0])|(7,[5],[1.0])|\n",
            "|  3| 28|  1|     B6|   377|LGA| 13.33|     182|   70|           70|1732.0|    1|        4.0|    3.0|  (8,[4],[1.0])|(7,[3],[1.0])|\n",
            "|  5| 28|  6|     B6|   904|ORD|  9.58|     130|   47|           47|1191.0|    1|        4.0|    0.0|  (8,[4],[1.0])|(7,[0],[1.0])|\n",
            "|  1| 19|  2|     UA|   820|SFO| 12.75|     123|  135|          135|1093.0|    1|        0.0|    1.0|  (8,[0],[1.0])|(7,[1],[1.0])|\n",
            "|  8|  5|  5|     US|  2175|LGA|  13.0|      71|  -10|          -10| 344.0|    0|        6.0|    3.0|  (8,[6],[1.0])|(7,[3],[1.0])|\n",
            "|  5| 27|  5|     AA|  1240|ORD| 14.42|     195|  -11|          -11|1926.0|    0|        1.0|    0.0|  (8,[1],[1.0])|(7,[0],[1.0])|\n",
            "|  8| 20|  6|     B6|   119|JFK| 14.67|     198|   20|           20|1902.0|    1|        4.0|    2.0|  (8,[4],[1.0])|(7,[2],[1.0])|\n",
            "|  2|  3|  1|     AA|  1881|JFK| 15.92|     200|   -9|           -9|1754.0|    0|        1.0|    2.0|  (8,[1],[1.0])|(7,[2],[1.0])|\n",
            "|  8| 26|  5|     B6|    35|JFK| 20.58|     193|  102|          102|1654.0|    1|        4.0|    2.0|  (8,[4],[1.0])|(7,[2],[1.0])|\n",
            "|  4|  9|  5|     AA|   336|ORD|  20.5|     125|   32|           32|1180.0|    1|        1.0|    0.0|  (8,[1],[1.0])|(7,[0],[1.0])|\n",
            "|  3|  8|  2|     UA|   678|ORD| 10.95|     129|   55|           55|1180.0|    1|        0.0|    0.0|  (8,[0],[1.0])|(7,[0],[1.0])|\n",
            "|  8| 10|  3|     OH|  6347|LGA| 11.75|     102|    8|            8| 470.0|    0|        5.0|    3.0|  (8,[5],[1.0])|(7,[3],[1.0])|\n",
            "|  8| 14|  0|     UA|   624|ORD| 17.92|     109|   57|           57| 985.0|    1|        0.0|    0.0|  (8,[0],[1.0])|(7,[0],[1.0])|\n",
            "|  4|  8|  4|     OH|  5585|JFK| 13.25|      88|   23|           23| 484.0|    1|        5.0|    2.0|  (8,[5],[1.0])|(7,[2],[1.0])|\n",
            "|  1| 14|  4|     UA|  1524|SFO| 14.87|      91|   27|           27| 666.0|    1|        0.0|    1.0|  (8,[0],[1.0])|(7,[1],[1.0])|\n",
            "|  1|  2|  6|     AA|  1341|ORD|   7.5|     275|   26|           26|2971.0|    1|        1.0|    0.0|  (8,[1],[1.0])|(7,[0],[1.0])|\n",
            "+---+---+---+-------+------+---+------+--------+-----+-------------+------+-----+-----------+-------+---------------+-------------+\n",
            "only showing top 20 rows\n",
            "\n"
          ]
        }
      ]
    },
    {
      "cell_type": "markdown",
      "source": [
        "Outliers can affect the performance of a model, the code below use the indexed columns as a sample to detect and graph outliers."
      ],
      "metadata": {
        "id": "v63GBv4T0dFj"
      }
    },
    {
      "cell_type": "code",
      "source": [
        "# Sample the combined DataFrame (adjust the fraction as needed)\n",
        "sampled_df = flights_indexed.sample(withReplacement=False, fraction=0.1, seed=42)  # Adjust fraction as needed\n",
        "\n",
        "# Convert the sampled DataFrame to Pandas for outlier analysis\n",
        "pandas_df = sampled_df.toPandas()\n",
        "\n",
        "# Function to detect outliers using boxplot\n",
        "def detect_outliers_boxplot(df):\n",
        "    plt.figure(figsize=(10, 6))\n",
        "    df.boxplot()\n",
        "    plt.title('Boxplot of Numerical Columns (Outliers)')\n",
        "    plt.xticks(rotation=45)\n",
        "    plt.tight_layout()\n",
        "    plt.show()\n",
        "\n",
        "# Plot boxplot for numerical columns\n",
        "detect_outliers_boxplot(pandas_df)"
      ],
      "metadata": {
        "colab": {
          "base_uri": "https://localhost:8080/",
          "height": 607
        },
        "id": "lD71hIHg2Anr",
        "outputId": "be1b6082-460c-41a1-d004-3d491c1ade8b"
      },
      "execution_count": 45,
      "outputs": [
        {
          "output_type": "display_data",
          "data": {
            "text/plain": [
              "<Figure size 1000x600 with 1 Axes>"
            ],
            "image/png": "[encoded data removed]"
          },
          "metadata": {}
        }
      ]
    },
    {
      "cell_type": "markdown",
      "source": [
        "PySpark's machine learning algorithms, including decision trees, expect input features to be provided in a single vector column.  VectorAssembler is used to merge multiple feature columns into a single feature vector column, which is the expected input format for PySpark ML algorithms. To build vector assembler, all the features are gathered in a single feature column"
      ],
      "metadata": {
        "id": "0yOjrzaI06fH"
      }
    },
    {
      "cell_type": "code",
      "source": [
        "# Create an assembler object\n",
        "assembler = VectorAssembler(inputCols=['mon', 'dom', 'dow',\n",
        "'carrier_idx', 'org_idx', 'km', 'depart', 'duration'], outputCol='features')\n",
        "# Consolidate predictor columns\n",
        "flights_assembled = assembler.transform(flights_indexed)\n",
        "# Check the resulting column\n",
        "flights_assembled.select('features', 'delay_imputed').show(5, truncate=False)"
      ],
      "metadata": {
        "colab": {
          "base_uri": "https://localhost:8080/"
        },
        "id": "FhTFQeTIGCsc",
        "outputId": "159cfe27-2b61-41ec-bd8e-1f883cca4797"
      },
      "execution_count": 18,
      "outputs": [
        {
          "output_type": "stream",
          "name": "stdout",
          "text": [
            "+-----------------------------------------+-------------+\n",
            "|features                                 |delay_imputed|\n",
            "+-----------------------------------------+-------------+\n",
            "|[10.0,10.0,1.0,2.0,0.0,253.0,8.18,51.0]  |27           |\n",
            "|[1.0,4.0,1.0,2.0,0.0,750.0,15.5,102.0]   |28           |\n",
            "|[11.0,22.0,1.0,2.0,0.0,1188.0,7.17,127.0]|-19          |\n",
            "|[2.0,14.0,5.0,4.0,2.0,3618.0,21.17,365.0]|60           |\n",
            "|[5.0,25.0,3.0,3.0,5.0,621.0,12.92,85.0]  |22           |\n",
            "+-----------------------------------------+-------------+\n",
            "only showing top 5 rows\n",
            "\n"
          ]
        }
      ]
    },
    {
      "cell_type": "markdown",
      "source": [
        "as in all machine learning techniques, it is necessary to divide the data into training and test data to build the model. The training_ratio variable then calculates the proportion of records in the training set compared to the total number of records in the original DataFrame (flights_assembled). This ratio is printed to verify that approximately 80% of the data resides in the training set."
      ],
      "metadata": {
        "id": "79dIer9L1dVk"
      }
    },
    {
      "cell_type": "code",
      "source": [
        "# Split into training and testing sets in a 80:20 ratio\n",
        "flights_train, flights_test = flights_assembled.randomSplit([0.8, 0.2], seed=42)\n",
        "\n",
        "# Check that training set has around 80% of records\n",
        "training_ratio = flights_train.count() / flights_assembled.count()\n",
        "print(training_ratio)"
      ],
      "metadata": {
        "colab": {
          "base_uri": "https://localhost:8080/"
        },
        "id": "o07EZ3QaHpfh",
        "outputId": "dc5064e3-85d6-4c27-dd1b-5267d6132ffb"
      },
      "execution_count": 19,
      "outputs": [
        {
          "output_type": "stream",
          "name": "stdout",
          "text": [
            "0.7995890909090909\n"
          ]
        }
      ]
    },
    {
      "cell_type": "markdown",
      "source": [
        "DecisionTreeClassifier() is the funciton used in this project to apply tree decision algorithm to the dataset, after that, a table with label, prediction and probability is depicted to compare prediction and have a better insight of model performance"
      ],
      "metadata": {
        "id": "C4V6B5IZ1_3j"
      }
    },
    {
      "cell_type": "code",
      "source": [
        "# Create a DT classifier object and fit to the training data\n",
        "tree = DecisionTreeClassifier()\n",
        "tree_model = tree.fit(flights_train)\n",
        "# Create predictions on test data\n",
        "prediction = tree_model.transform(flights_test)\n",
        "prediction.select('label', 'prediction', 'probability').show(5, False)"
      ],
      "metadata": {
        "colab": {
          "base_uri": "https://localhost:8080/"
        },
        "id": "H3z3XbmhHxc6",
        "outputId": "4c05c684-ceea-4cf2-903d-2fe68a9e7798"
      },
      "execution_count": 20,
      "outputs": [
        {
          "output_type": "stream",
          "name": "stdout",
          "text": [
            "+-----+----------+---------------------------------------+\n",
            "|label|prediction|probability                            |\n",
            "+-----+----------+---------------------------------------+\n",
            "|0    |1.0       |[0.4635043206471778,0.5364956793528222]|\n",
            "|1    |1.0       |[0.31742686417032895,0.682573135829671]|\n",
            "|1    |1.0       |[0.31742686417032895,0.682573135829671]|\n",
            "|1    |1.0       |[0.40043703906036604,0.599562960939634]|\n",
            "|1    |1.0       |[0.31742686417032895,0.682573135829671]|\n",
            "+-----+----------+---------------------------------------+\n",
            "only showing top 5 rows\n",
            "\n"
          ]
        }
      ]
    },
    {
      "cell_type": "markdown",
      "source": [
        "To have a better understanding of performance, a correlation matrix is created, parameteres are calculated comparing labels and prediction results, in this way, a count of all comparisons are showed in table below"
      ],
      "metadata": {
        "id": "zT__yq4Z2XjE"
      }
    },
    {
      "cell_type": "code",
      "source": [
        "# Create a confusion matrix\n",
        "prediction.groupBy('label', 'prediction').count().show()\n",
        "\n",
        "# Calculate the elements of the confusion matrix\n",
        "TN = prediction.filter('prediction = 0 AND label = prediction').count()\n",
        "TP = prediction.filter('prediction = 1 AND label = prediction').count()\n",
        "FN = prediction.filter('prediction = 0 AND label != prediction').count()\n",
        "FP = prediction.filter('prediction = 1 AND label != prediction').count()\n",
        "\n",
        "# Accuracy measures the proportion of correct predictions\n",
        "accuracy = (TN + TP) / (TN + TP + FN + FP)\n",
        "print(accuracy)"
      ],
      "metadata": {
        "colab": {
          "base_uri": "https://localhost:8080/"
        },
        "id": "7yZc2v4GIB2P",
        "outputId": "30a4e221-9490-45e2-9505-5852864c68b6"
      },
      "execution_count": 21,
      "outputs": [
        {
          "output_type": "stream",
          "name": "stdout",
          "text": [
            "+-----+----------+-----+\n",
            "|label|prediction|count|\n",
            "+-----+----------+-----+\n",
            "|    1|       0.0| 8366|\n",
            "|    0|       0.0|14155|\n",
            "|    1|       1.0|21175|\n",
            "|    0|       1.0|11417|\n",
            "+-----+----------+-----+\n",
            "\n",
            "0.641046577032642\n"
          ]
        }
      ]
    },
    {
      "cell_type": "markdown",
      "source": [
        "Using a pyspark function as binaryclassificationEvaluator is able to calculate the model accuracy based on prediction"
      ],
      "metadata": {
        "id": "w_4mD8Ck3EDB"
      }
    },
    {
      "cell_type": "code",
      "source": [
        "from pyspark.ml.evaluation import BinaryClassificationEvaluator\n",
        "# Evaluate the model\n",
        "evaluator = BinaryClassificationEvaluator()\n",
        "accuracy = evaluator.evaluate(prediction)\n",
        "print(f\"Model accuracy: {accuracy}\")"
      ],
      "metadata": {
        "colab": {
          "base_uri": "https://localhost:8080/"
        },
        "id": "1EeJIG8AF4uO",
        "outputId": "0d1a0f6c-0ba0-4f95-826c-0247658fe668"
      },
      "execution_count": 23,
      "outputs": [
        {
          "output_type": "stream",
          "name": "stdout",
          "text": [
            "Model accuracy: 0.6242492346520832\n"
          ]
        }
      ]
    }
  ]
}